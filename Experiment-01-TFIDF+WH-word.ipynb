{
 "cells": [
  {
   "cell_type": "markdown",
   "metadata": {},
   "source": [
    "Fitur yang dipakai :\n",
    "- TFIDF Word\n",
    "- WH word"
   ]
  },
  {
   "cell_type": "code",
   "execution_count": 31,
   "metadata": {
    "ExecuteTime": {
     "end_time": "2020-05-17T22:50:36.669403Z",
     "start_time": "2020-05-17T22:50:36.413652Z"
    }
   },
   "outputs": [],
   "source": [
    "import pandas as pd\n",
    "import numpy as np\n",
    "import csv\n",
    "from nltk.tokenize import word_tokenize\n",
    "import pickle\n",
    "from sklearn import preprocessing\n",
    "from Sastrawi.Stemmer.StemmerFactory import StemmerFactory\n",
    "factory = StemmerFactory()\n",
    "stemmer = factory.create_stemmer()\n",
    "import re \n",
    "from sklearn.feature_extraction.text import CountVectorizer\n",
    "from sklearn.feature_extraction.text import TfidfVectorizer"
   ]
  },
  {
   "cell_type": "code",
   "execution_count": 32,
   "metadata": {
    "ExecuteTime": {
     "end_time": "2020-05-17T22:50:40.521396Z",
     "start_time": "2020-05-17T22:50:40.164183Z"
    }
   },
   "outputs": [
    {
     "name": "stdout",
     "output_type": "stream",
     "text": [
      "1807\n",
      "ENTY    517\n",
      "NUM     439\n",
      "HUM     351\n",
      "LOC     233\n",
      "DESC    188\n",
      "ABBR     79\n",
      "Name: Coarse, dtype: int64\n"
     ]
    },
    {
     "data": {
      "text/plain": [
       "<matplotlib.axes._subplots.AxesSubplot at 0x1ae7386d348>"
      ]
     },
     "execution_count": 32,
     "metadata": {},
     "output_type": "execute_result"
    },
    {
     "data": {
      "image/png": "[encoded data removed]",
      "text/plain": [
       "<Figure size 432x288 with 1 Axes>"
      ]
     },
     "metadata": {
      "needs_background": "light"
     },
     "output_type": "display_data"
    }
   ],
   "source": [
    "dataset = 'dataset-question-classification-csv.csv'\n",
    "dataset=pd.read_csv(dataset,sep=';')\n",
    "print(len(dataset))\n",
    "import matplotlib.pyplot as plt\n",
    "print(dataset['Coarse'].value_counts(dropna=False))\n",
    "pd.value_counts(dataset['Coarse'],dropna=False).plot.bar()"
   ]
  },
  {
   "cell_type": "code",
   "execution_count": 33,
   "metadata": {
    "ExecuteTime": {
     "end_time": "2020-05-17T22:50:49.221118Z",
     "start_time": "2020-05-17T22:50:49.213103Z"
    }
   },
   "outputs": [],
   "source": [
    "def wh_tag(doc):\n",
    "    wh_tag_list = {'apa': 1, 'apakah': 2, 'dimana': 3, 'di mana': 3, 'bagaimana':4, 'bagaimanakah':4, 'mengapa':5, 'kenapa':6, 'siapa':7, 'siapakah':7, 'kapan':8, 'kemana':9, 'dari mana':10, 'berapa':11, 'berapakah':11, 'mana':12, 'manakah':12, 'dimanakah':13}\n",
    "    result = []\n",
    "    wh_tags = []\n",
    "    for t in word_tokenize(doc):\n",
    "        if t in wh_tag_list:\n",
    "            wh_tags.append(wh_tag_list[t])\n",
    "    if not wh_tags:#If empty\n",
    "        result.append(0) #none tag\n",
    "    else:\n",
    "        result.append(wh_tags[0])\n",
    "    return result"
   ]
  },
  {
   "cell_type": "code",
   "execution_count": 66,
   "metadata": {
    "ExecuteTime": {
     "end_time": "2020-05-18T00:14:37.868872Z",
     "start_time": "2020-05-18T00:14:37.663858Z"
    }
   },
   "outputs": [],
   "source": [
    "sen_class = 1\n",
    "\n",
    "target = 'dataset-question-classification-csv.csv'\n",
    "with open(target,'r',encoding='utf-8') as csvFile:\n",
    "    csvReader = csv.reader(csvFile, delimiter=';')\n",
    "    next(csvReader)\n",
    "    \n",
    "    text = []\n",
    "    classes = []\n",
    "    tag_wh_new = []\n",
    "    \n",
    "    for row in csvReader:\n",
    "        \n",
    "        sentence = row[0].lower()\n",
    "        \n",
    "        if sen_class == 1:\n",
    "            sentenceclass =row[1] #row[1]=coarse - row[2]=fine\n",
    "        elif sen_class == 2:\n",
    "            sentenceclass =row[2] #row[1]=coarse - row[2]=fine\n",
    "            \n",
    "        classes.append(sentenceclass)\n",
    "        \n",
    "        tag_wh_new.append(wh_tag(sentence.lower()))\n",
    "        \n",
    "        text.append(sentence)"
   ]
  },
  {
   "cell_type": "code",
   "execution_count": 67,
   "metadata": {
    "ExecuteTime": {
     "end_time": "2020-05-18T00:14:39.973959Z",
     "start_time": "2020-05-18T00:14:39.216043Z"
    }
   },
   "outputs": [],
   "source": [
    "tfidf_vectorizer = TfidfVectorizer()\n",
    "#Eksport TFIDF model\n",
    "tfidf_vectorizer.fit(text)\n",
    "pickle.dump(tfidf_vectorizer, open('newest-tfidf.pkl', 'wb'));\n",
    "\n",
    "#Eksekusi TFIDF seperti biasanya\n",
    "tfidf_feature = tfidf_vectorizer.transform(text)\n",
    "documents_text = tfidf_feature.toarray()\n",
    "documents_text = documents_text.tolist()\n",
    "\n",
    "# Insert WH Tag \n",
    "i=0\n",
    "for xxxxx in documents_text:\n",
    "    documents_text[i].insert(0,tag_wh_new[i][0])\n",
    "    i+=1\n",
    "    \n",
    "\n",
    "from sklearn.model_selection import cross_val_score\n",
    "from sklearn.model_selection import train_test_split\n",
    "from sklearn.metrics import classification_report,confusion_matrix\n",
    "\n",
    "a_train, a_test, b_train, b_test = train_test_split(documents_text, classes, test_size=0.30, random_state=42)"
   ]
  },
  {
   "cell_type": "code",
   "execution_count": 68,
   "metadata": {
    "ExecuteTime": {
     "end_time": "2020-05-18T00:14:48.468108Z",
     "start_time": "2020-05-18T00:14:40.044550Z"
    }
   },
   "outputs": [
    {
     "name": "stdout",
     "output_type": "stream",
     "text": [
      "              precision    recall  f1-score   support\n",
      "\n",
      "        ABBR      1.000     0.857     0.923        21\n",
      "        DESC      0.881     0.771     0.822        48\n",
      "        ENTY      0.824     0.934     0.876       166\n",
      "         HUM      0.968     0.891     0.928       101\n",
      "         LOC      0.883     0.803     0.841        66\n",
      "         NUM      0.979     0.986     0.983       143\n",
      "\n",
      "    accuracy                          0.906       545\n",
      "   macro avg      0.923     0.874     0.895       545\n",
      "weighted avg      0.910     0.906     0.906       545\n",
      "\n",
      "\n",
      "\n",
      "\n"
     ]
    }
   ],
   "source": [
    "#SVM model Coarse Category\n",
    "from sklearn import svm\n",
    "model = svm.SVC(kernel='linear')\n",
    "model.fit(a_train,b_train)\n",
    "\n",
    "predictions = model.predict(a_test)\n",
    "print(classification_report(b_test,predictions,digits=3))\n",
    "print('\\n\\n')\n"
   ]
  },
  {
   "cell_type": "code",
   "execution_count": 65,
   "metadata": {
    "ExecuteTime": {
     "end_time": "2020-05-18T00:13:19.855524Z",
     "start_time": "2020-05-18T00:13:07.376600Z"
    }
   },
   "outputs": [
    {
     "name": "stderr",
     "output_type": "stream",
     "text": [
      "c:\\users\\fandy\\appdata\\local\\programs\\python\\python37\\lib\\site-packages\\sklearn\\metrics\\_classification.py:1272: UndefinedMetricWarning: Precision and F-score are ill-defined and being set to 0.0 in labels with no predicted samples. Use `zero_division` parameter to control this behavior.\n",
      "  _warn_prf(average, modifier, msg_start, len(result))\n"
     ]
    },
    {
     "name": "stdout",
     "output_type": "stream",
     "text": [
      "                precision    recall  f1-score   support\n",
      "\n",
      "  abbreviation      0.500     1.000     0.667         5\n",
      "        animal      0.857     0.857     0.857        14\n",
      "          body      1.000     0.667     0.800         6\n",
      "          city      1.000     0.875     0.933         8\n",
      "          code      1.000     0.750     0.857         4\n",
      "         color      1.000     0.900     0.947        10\n",
      "         count      0.564     0.886     0.689        35\n",
      "       country      0.846     0.917     0.880        12\n",
      "      creation      0.750     0.857     0.800        14\n",
      "      currency      1.000     1.000     1.000         5\n",
      "          date      0.875     0.933     0.903        15\n",
      "    definition      0.583     1.000     0.737         7\n",
      "   description      0.500     0.625     0.556         8\n",
      "        dismed      1.000     0.417     0.588        12\n",
      "      distance      0.727     0.667     0.696        12\n",
      "     entyother      0.217     0.333     0.263        15\n",
      "         event      0.800     1.000     0.889         4\n",
      "     expansion      0.929     0.812     0.867        16\n",
      "          food      0.900     0.692     0.783        13\n",
      "         group      0.714     1.000     0.833        10\n",
      "humdescription      1.000     0.857     0.923        14\n",
      "    individual      0.970     0.970     0.970        67\n",
      "    instrument      1.000     1.000     1.000         1\n",
      "      language      1.000     1.000     1.000         2\n",
      "        letter      0.000     0.000     0.000         3\n",
      "      locother      0.667     0.914     0.771        35\n",
      "        manner      0.900     0.750     0.818        12\n",
      "         money      0.686     0.889     0.774        27\n",
      "      mountain      1.000     0.500     0.667         6\n",
      "      numother      0.000     0.000     0.000         5\n",
      "         order      0.000     0.000     0.000         2\n",
      "       percent      0.000     0.000     0.000         8\n",
      "        period      0.889     0.727     0.800        11\n",
      "         plant      1.000     0.250     0.400         4\n",
      "       product      1.000     0.364     0.533        11\n",
      "        reason      0.724     1.000     0.840        21\n",
      "      religion      0.000     0.000     0.000         2\n",
      "          size      1.000     0.600     0.750         5\n",
      "         speed      1.000     0.250     0.400        12\n",
      "         sport      0.889     0.889     0.889         9\n",
      "         state      1.000     0.800     0.889         5\n",
      "     substance      0.600     1.000     0.750         3\n",
      "        symbol      1.000     1.000     1.000         5\n",
      "     technique      1.000     0.400     0.571         5\n",
      "   temperature      0.000     0.000     0.000         1\n",
      "          term      0.800     0.727     0.762        11\n",
      "         title      1.000     0.300     0.462        10\n",
      "       vehicle      0.625     0.714     0.667         7\n",
      "        weight      1.000     0.833     0.909         6\n",
      "          word      0.900     0.900     0.900        10\n",
      "\n",
      "      accuracy                          0.769       545\n",
      "     macro avg      0.748     0.676     0.680       545\n",
      "  weighted avg      0.790     0.769     0.751       545\n",
      "\n",
      "\n",
      "\n",
      "\n"
     ]
    }
   ],
   "source": [
    "#SVM model Fine Category\n",
    "from sklearn import svm\n",
    "model = svm.SVC(kernel='linear')\n",
    "model.fit(a_train,b_train)\n",
    "\n",
    "predictions = model.predict(a_test)\n",
    "print(classification_report(b_test,predictions,digits=3))\n",
    "print('\\n\\n')\n",
    "\n",
    "pickle.dump(model, open(\"newest-model-fine.pkl\", 'wb'))"
   ]
  }
 ],
 "metadata": {
  "kernelspec": {
   "display_name": "Python 3",
   "language": "python",
   "name": "python3"
  },
  "language_info": {
   "codemirror_mode": {
    "name": "ipython",
    "version": 3
   },
   "file_extension": ".py",
   "mimetype": "text/x-python",
   "name": "python",
   "nbconvert_exporter": "python",
   "pygments_lexer": "ipython3",
   "version": "3.7.7"
  }
 },
 "nbformat": 4,
 "nbformat_minor": 2
}
